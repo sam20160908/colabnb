{
  "nbformat": 4,
  "nbformat_minor": 0,
  "metadata": {
    "colab": {
      "name": "Untitled0.ipynb",
      "version": "0.3.2",
      "provenance": [],
      "include_colab_link": true
    },
    "kernelspec": {
      "name": "python3",
      "display_name": "Python 3"
    }
  },
  "cells": [
    {
      "cell_type": "markdown",
      "metadata": {
        "id": "view-in-github",
        "colab_type": "text"
      },
      "source": [
        "<a href=\"https://colab.research.google.com/github/sam20160908/colabnb/blob/master/Untitled0.ipynb\" target=\"_parent\"><img src=\"https://colab.research.google.com/assets/colab-badge.svg\" alt=\"Open In Colab\"/></a>"
      ]
    },
    {
      "cell_type": "code",
      "metadata": {
        "id": "QxnOLsBfVYGO",
        "colab_type": "code",
        "outputId": "5021e702-ba6b-4b2c-ea8d-bf806e5b8261",
        "colab": {
          "base_uri": "https://localhost:8080/",
          "height": 35
        }
      },
      "source": [
        "a = 1\n",
        "b = 2\n",
        "(a+b)**2\n"
      ],
      "execution_count": 0,
      "outputs": [
        {
          "output_type": "execute_result",
          "data": {
            "text/plain": [
              "9"
            ]
          },
          "metadata": {
            "tags": []
          },
          "execution_count": 1
        }
      ]
    },
    {
      "cell_type": "code",
      "metadata": {
        "id": "3qjhUD48roZs",
        "colab_type": "code",
        "colab": {
          "base_uri": "https://localhost:8080/",
          "height": 70
        },
        "outputId": "4646b7d6-2def-44fa-8df6-6cd9ed58d444"
      },
      "source": [
        "import numpy as np\n",
        "\n",
        "np.zeros((3,3))"
      ],
      "execution_count": 1,
      "outputs": [
        {
          "output_type": "execute_result",
          "data": {
            "text/plain": [
              "array([[0., 0., 0.],\n",
              "       [0., 0., 0.],\n",
              "       [0., 0., 0.]])"
            ]
          },
          "metadata": {
            "tags": []
          },
          "execution_count": 1
        }
      ]
    },
    {
      "cell_type": "code",
      "metadata": {
        "id": "dft993wurtAr",
        "colab_type": "code",
        "colab": {
          "base_uri": "https://localhost:8080/",
          "height": 125
        },
        "outputId": "c60a1706-8d2f-42fd-e2c5-253e20f4d481"
      },
      "source": [
        "from google.colab import drive\n",
        "drive.mount('/content/gdrive')"
      ],
      "execution_count": 2,
      "outputs": [
        {
          "output_type": "stream",
          "text": [
            "Go to this URL in a browser: https://accounts.google.com/o/oauth2/auth?client_id=947318989803-6bn6qk8qdgf4n4g3pfee6491hc0brc4i.apps.googleusercontent.com&redirect_uri=urn%3Aietf%3Awg%3Aoauth%3A2.0%3Aoob&scope=email%20https%3A%2F%2Fwww.googleapis.com%2Fauth%2Fdocs.test%20https%3A%2F%2Fwww.googleapis.com%2Fauth%2Fdrive%20https%3A%2F%2Fwww.googleapis.com%2Fauth%2Fdrive.photos.readonly%20https%3A%2F%2Fwww.googleapis.com%2Fauth%2Fpeopleapi.readonly&response_type=code\n",
            "\n",
            "Enter your authorization code:\n",
            "··········\n",
            "Mounted at /content/gdrive\n"
          ],
          "name": "stdout"
        }
      ]
    },
    {
      "cell_type": "code",
      "metadata": {
        "id": "qPtEWt_nt1rD",
        "colab_type": "code",
        "colab": {
          "base_uri": "https://localhost:8080/",
          "height": 1000
        },
        "outputId": "498b7167-d646-48f8-f052-f27ed38b55b5"
      },
      "source": [
        "!ls '/content/gdrive/My Drive'\n"
      ],
      "execution_count": 3,
      "outputs": [
        {
          "output_type": "stream",
          "text": [
            " _0104e918fbf0762326a187fdcf615f9d_Lecture13.pdf\n",
            " 04201726095818_桶裝飲用水收費及服務調查.pdf\n",
            " 16in05ca.gsheet\n",
            " 1718+ApplicationFormWeb+QR1602.pdf\n",
            " 18-111_401aafe7-dede-4cf9-9d95-073eee6868da.pdf\n",
            " 1992年教業中學第12屆畢業同學錄上半部.pdf\n",
            " 1992年教業中學第12屆畢業同學錄下半部.pdf\n",
            " 1b06fac4-6efb-4992-8977-409e4ee9aacf.pdf\n",
            " 1d1ddd17-e718-43ff-bf4e-f223874d6cb6.pdf\n",
            " 2007年吳炳燃醫生證明.pdf\n",
            " 2008年5月1日來回機票長榮航空.pdf\n",
            " 2015_682_SU_HOI_WONG_1040.pdf\n",
            "'201702 suh check stub.pdf'\n",
            "'2017 AMCO INSURANCE COMPANY.pdf'\n",
            "'2017 FTB 1031 Publication - Guidelines for Determining Resident Status.pdf'\n",
            "'201801 suh SallieMae statements.pdf'\n",
            "'20180505 BCR-ABL MyHealth at Stanford - Test Details.pdf'\n",
            "'20180505 CBC MyHealth at Stanford - Test Details.pdf'\n",
            "'20180505 metabolic panel, comp MyHealth at Stanford - Test Details.pdf'\n",
            " 20180526101459615.pdf\n",
            "'20181016 regular  lab result.pdf'\n",
            "'2018 honda freed purchase deposit.pdf'\n",
            "'2018 suh 1099-G state and local tax.pdf'\n",
            "'2018 suh 1099-INT upstart from email - Google Docs.pdf'\n",
            "'2018 suh employment report info.pdf'\n",
            "'2018 suh employment verification.pdf'\n",
            "'2018 suh employment verification with sal.pdf'\n",
            "'2018 suh temp blue card for medical in central hospital.pdf'\n",
            "'2018 suh w2 ebay.pdf'\n",
            "'2019 2018 express scripts gleevec receipt.pdf'\n",
            " _246c2a4e4c249f94c895f607ea1e6407_Lecture12.pdf\n",
            " _492840237930ad4e2f58e3e0bb6cd6d2_Lecture17.pdf\n",
            " _49836d3df9f40f803323ac9d614fcb94_Lecture16.pdf\n",
            " 6d0d3d45-356d-4437-a37a-2d08ea85e46f.pdf\n",
            " _76dc0f4717572c816be29a39cdd2237a_Lecture15.pdf\n",
            " _7d030d67103ce0e7f39dee1d7f78525c_Lecture7.pdf\n",
            " 98c89178-cb37-44b0-bdb9-505b17fa813a.pdf\n",
            " _a5935af6cf0625a072cb6e2962e4a47f_Lecture14.pdf\n",
            "'aaa invoice.pdf'\n",
            "'AAA si koi.pdf'\n",
            "'Account Access - Scheduled Contribution.pdf'\n",
            "'Account Access - Scheduled One-Time Contributions.pdf'\n",
            "'Account Access - Special Occasion Contributions.pdf'\n",
            "'Account Opening.pdf'\n",
            "'Addendum leave form (1).pdf'\n",
            "'Address and Phone (1).pdf'\n",
            "'Address and Phone.pdf'\n",
            "'Al and 107 others.vcf'\n",
            "'Amazon.com - Order 113-7864386-4503428.pdf'\n",
            "'Appointment Summary (1).pdf'\n",
            "'Appointment Summary.pdf'\n",
            "'AT&T Wireless Consumer Device Unlock Request.pdf'\n",
            " _b0cf48c6b7bc9f194310e6bc90dec220_Lecture10.pdf\n",
            "'Bank of America | Online Banking | Bill Pay | Payment Confirmation.pdf'\n",
            "'Beneficiaries - Fidelity (1).pdf'\n",
            "'Beneficiaries - Fidelity.pdf'\n",
            "'beth health report mar19 page 1 rescan.pdf'\n",
            "'Beth health report mar19.pdf'\n",
            " _bfa875d182c5d3c11e9a44e72b1e0f49_Lecture11.pdf\n",
            " booklet_c.pdf\n",
            " Centralised-Registration-English.pdf\n",
            " chart.png\n",
            "'check costco 103.pdf'\n",
            "'check costco 21.pdf'\n",
            "'Check - in Confirmation (1).pdf'\n",
            "'Check - in Confirmation (2).pdf'\n",
            "'Check - in Confirmation (3).pdf'\n",
            "'Check - in Confirmation (4).pdf'\n",
            "'Check - in Confirmation (5).pdf'\n",
            "'Check - in Confirmation.pdf'\n",
            "'Checkout | Traveling Mailbox (1).pdf'\n",
            "'Checkout | Traveling Mailbox.pdf'\n",
            "'CHEM (2017-08-15).pdf'\n",
            " Classroom\n",
            "'Colab Notebooks'\n",
            "'com.nyl.vscii.policyserver (1).PolicyServerServlet.pdf'\n",
            " com.nyl.vscii.policyserver.PolicyServerServlet.pdf\n",
            " confirmationPDF.do.pdf\n",
            "'Copy of ex1.m'\n",
            "'Copy of Scan Nov 23, 23-26 Hing Nung Chan death certificate.pdf'\n",
            " courses\n",
            " _ddddee094d30ffb17b32b73947c58cfe_C3W1L11.gslides\n",
            " doc\n",
            " downloads\n",
            "'dr moy lab bill 2nd.pdf'\n",
            "'dr moy lab bill first.pdf'\n",
            "'dr moy lab bill paid.pdf'\n",
            " DSCF9106.JPG\n",
            " _ec21cea314b2ac7d9e627706501b5baa_Lecture2.pdf\n",
            "'ee bond copy.pdf'\n",
            "'ee bond from hing nung chan Conversion Manifest.pdf'\n",
            "'EnvelopePDF (1).aspx.pdf'\n",
            " EnvelopePDF.aspx.pdf\n",
            " Essay.gdoc\n",
            "'experian notice of address change.pdf'\n",
            "'FACTFIND_For Trust Clients 2017 V5.4.pdf'\n",
            "'Fandango Secure Checkout.pdf'\n",
            "'FedEx Shipping Label (1).pdf'\n",
            "'FedEx Shipping Label (2).pdf'\n",
            "'FedEx Shipping Label (3).pdf'\n",
            "'FedEx Shipping Label (4).pdf'\n",
            "'FedEx Shipping Label (5).pdf'\n",
            "'FedEx Shipping Label (6).pdf'\n",
            "'FedEx Shipping Label.pdf'\n",
            "'Fidelity Netbenefits.pdf'\n",
            " FluConsent.pdf\n",
            " Focal_Letter_2018_Wong_Suhoi.pdf\n",
            " general-c.pdf\n",
            " gmc.pdf\n",
            "'Goldman Sachs Bank USA - Transfer Funds.pdf'\n",
            "'Google Photos'\n",
            "'https:  patient.labcorp.com ui guestInvoice.pdf'\n",
            "'IKEA Hong Kong - Order Details (10).pdf'\n",
            "'IKEA Hong Kong - Order Details (11).pdf'\n",
            "'IKEA Hong Kong - Order Details (12).pdf'\n",
            "'IKEA Hong Kong - Order Details (13).pdf'\n",
            "'IKEA Hong Kong - Order Details (14).pdf'\n",
            "'IKEA Hong Kong - Order Details (15).pdf'\n",
            "'IKEA Hong Kong - Order Details (16).pdf'\n",
            "'IKEA Hong Kong - Order Details (17).pdf'\n",
            "'IKEA Hong Kong - Order Details (18).pdf'\n",
            "'IKEA Hong Kong - Order Details (19).pdf'\n",
            "'IKEA Hong Kong - Order Details (1).pdf'\n",
            "'IKEA Hong Kong - Order Details (20).pdf'\n",
            "'IKEA Hong Kong - Order Details (21).pdf'\n",
            "'IKEA Hong Kong - Order Details (22).pdf'\n",
            "'IKEA Hong Kong - Order Details (23).pdf'\n",
            "'IKEA Hong Kong - Order Details (24).pdf'\n",
            "'IKEA Hong Kong - Order Details (25).pdf'\n",
            "'IKEA Hong Kong - Order Details (26).pdf'\n",
            "'IKEA Hong Kong - Order Details (27).pdf'\n",
            "'IKEA Hong Kong - Order Details (28).pdf'\n",
            "'IKEA Hong Kong - Order Details (2).pdf'\n",
            "'IKEA Hong Kong - Order Details (3).pdf'\n",
            "'IKEA Hong Kong - Order Details (4).pdf'\n",
            "'IKEA Hong Kong - Order Details (5).pdf'\n",
            "'IKEA Hong Kong - Order Details (6).pdf'\n",
            "'IKEA Hong Kong - Order Details (7).pdf'\n",
            "'IKEA Hong Kong - Order Details (8).pdf'\n",
            "'IKEA Hong Kong - Order Details (9).pdf'\n",
            "'IKEA Hong Kong - Order Details.pdf'\n",
            "'IKEA Hong Kong - Shop for Furniture, Lighting, Home Accessories & More (1).pdf'\n",
            "'IKEA Hong Kong - Shop for Furniture, Lighting, Home Accessories & More (2).pdf'\n",
            "'IKEA Hong Kong - Shop for Furniture, Lighting, Home Accessories & More (3).pdf'\n",
            "'IKEA Hong Kong - Shop for Furniture, Lighting, Home Accessories & More (4).pdf'\n",
            "'IKEA Hong Kong - Shop for Furniture, Lighting, Home Accessories & More (5).pdf'\n",
            "'IKEA Hong Kong - Shop for Furniture, Lighting, Home Accessories & More.pdf'\n",
            "'IKEA Hong Kong - 訂單詳情 (1).pdf'\n",
            "'IKEA Hong Kong - 訂單詳情 (2).pdf'\n",
            "'IKEA Hong Kong - 訂單詳情 (3).pdf'\n",
            "'IKEA Hong Kong - 訂單詳情.pdf'\n",
            "'IKEA Hong Kong - 選購傢具、燈飾、家品等 (1).pdf'\n",
            "'IKEA Hong Kong - 選購傢具、燈飾、家品等.pdf'\n",
            " IMG_2350.JPG\n",
            " IMG_3377.JPG\n",
            " IMG_5567.PNG\n",
            " IMG_5568.PNG\n",
            " IMG_5570.PNG\n",
            " IMG_8850.JPG\n",
            " IMG_8855.JPG\n",
            " IMG_8926.JPG\n",
            "'Improving Deep Neural Networks: Hyperparameter tuning, Regularization and Optimization - Home | Coursera (1).pdf'\n",
            "'Improving Deep Neural Networks: Hyperparameter tuning, Regularization and Optimization - Home | Coursera.pdf'\n",
            " investing\n",
            " Invoice.pdf\n",
            "'iroad a4 user manual.pdf'\n",
            " Journals\n",
            "'Kiang Wu dentist.pdf'\n",
            "'LabCorp | PreCheck.pdf'\n",
            "'Letter to School - Macau Anglican College - Google Docs.pdf'\n",
            " Lorie與家務工作外地僱員訂立勞動合同2019.gdoc\n",
            " lotacao.xls\n",
            "'mdx notice of transfer and release of liability at DMV.pdf'\n",
            " menu\n",
            "'Miscellaneous Risks (1).pdf'\n",
            "'Miscellaneous Risks.pdf'\n",
            "'MyHealth at Stanford (1).pdf'\n",
            "'MyHealth at Stanford.pdf'\n",
            "'MyHealth at Stanford - Test Details.pdf'\n",
            "'name change statement.gdoc'\n",
            "'name change statement - Google Docs.pdf'\n",
            "'Nationwide privacy statement.pdf'\n",
            " nb_contracts_housework_c.pdf\n",
            " Nomad-Capitalist-FREE-Guide-Company.pdf\n",
            "'Online check-in- EVA Air | America.pdf'\n",
            "'Open an Account | ally.pdf'\n",
            "'Order Confirmation.pdf'\n",
            "'Patient Registration.pdf'\n",
            "'PayDollar Payment Service (10).pdf'\n",
            "'PayDollar Payment Service (11).pdf'\n",
            "'PayDollar Payment Service (12).pdf'\n",
            "'PayDollar Payment Service (13).pdf'\n",
            "'PayDollar Payment Service (14).pdf'\n",
            "'PayDollar Payment Service (15).pdf'\n",
            "'PayDollar Payment Service (16).pdf'\n",
            "'PayDollar Payment Service (17).pdf'\n",
            "'PayDollar Payment Service (18).pdf'\n",
            "'PayDollar Payment Service (19).pdf'\n",
            "'PayDollar Payment Service (1).pdf'\n",
            "'PayDollar Payment Service (20).pdf'\n",
            "'PayDollar Payment Service (21).pdf'\n",
            "'PayDollar Payment Service (22).pdf'\n",
            "'PayDollar Payment Service (23).pdf'\n",
            "'PayDollar Payment Service (24).pdf'\n",
            "'PayDollar Payment Service (25).pdf'\n",
            "'PayDollar Payment Service (26).pdf'\n",
            "'PayDollar Payment Service (27).pdf'\n",
            "'PayDollar Payment Service (28).pdf'\n",
            "'PayDollar Payment Service (2).pdf'\n",
            "'PayDollar Payment Service (3).pdf'\n",
            "'PayDollar Payment Service (4).pdf'\n",
            "'PayDollar Payment Service (5).pdf'\n",
            "'PayDollar Payment Service (6).pdf'\n",
            "'PayDollar Payment Service (7).pdf'\n",
            "'PayDollar Payment Service (8).pdf'\n",
            "'PayDollar Payment Service (9).pdf'\n",
            "'PayDollar Payment Service.pdf'\n",
            "'Payment Confirmation.pdf'\n",
            " PDF.pdf\n",
            "'People Central - Proof of Employment.pdf'\n",
            " ppt故事.gslides\n",
            "'Print Postage Label (1).pdf'\n",
            "'Print Postage Label (2).pdf'\n",
            "'Print Postage Label (3).pdf'\n",
            "'Print Postage Label (4).pdf'\n",
            "'Print Postage Label (5).pdf'\n",
            "'Print Postage Label (6).pdf'\n",
            "'Print Postage Label (7).pdf'\n",
            "'Print Postage Label (8).pdf'\n",
            "'Print Postage Label.pdf'\n",
            " Prosper-Suhoi.pdf\n",
            "'Requesting Authentication Services.pdf'\n",
            " RetrieveDocument.aspx.pdf\n",
            "'Sallie Mae Bank - Account Confirmation Printer Friendly Page (1).pdf'\n",
            "'Sallie Mae Bank - Account Confirmation Printer Friendly Page (2).pdf'\n",
            "'Sallie Mae Bank - Account Confirmation Printer Friendly Page.pdf'\n",
            "'Sallie Mae Bank - An Error Occurred..pdf'\n",
            "'Sallie Mae Bank - Open Account.pdf'\n",
            "'Sallie Mae Bank - Pending Transfers.pdf'\n",
            "'Sallie Mae Bank - Transfer Money.pdf'\n",
            "'SallieMae CDs.gsheet'\n",
            "'Scan Jun 26, 2019 (2).pdf'\n",
            "'Scan Mar 19, 2019 (2).pdf'\n",
            "'Scan Mar 19, 2019 (3).pdf'\n",
            "'Scan Mar 19, 2019 (4).pdf'\n",
            "'Scan Mar 19, 2019.pdf'\n",
            "'Scan Mar 22, 2019 (2).pdf'\n",
            "'Scan Mar 22, 2019 (3).pdf'\n",
            "'Scan Mar 22, 2019.pdf'\n",
            "'Scan Mar 8, 2019.pdf'\n",
            "'Scan Oct 9, 17.pdf'\n",
            "'Scan Sep 29, 18.pdf'\n",
            "'Seat Selection Result - EVA Air | Global (1).pdf'\n",
            "'Seat Selection Result - EVA Air | Global.pdf'\n",
            "'Settings | LendingClub.pdf'\n",
            " Sharing\n",
            "'shopping cart - IKEA.pdf'\n",
            "'Sign Anywhere, Anytime | DocuSign.pdf'\n",
            "'spam to sell house.pdf'\n",
            "'Student Name: Wong Zoey.gdoc'\n",
            "'Student Name: Wong Zoey - Google Docs.pdf'\n",
            " suhoi_wong_工作証明_2015.pdf\n",
            " Tax\n",
            " TDA097.pdf\n",
            " TDA097-san-corrected.pdf\n",
            " TDA097-suhoi-corrected.pdf\n",
            " TDA_TOD_san.pdf\n",
            " TDA_TOD_suhoi.pdf\n",
            "'Text File (1).txt'\n",
            "'Text File (2).txt'\n",
            "'Text File (3).txt'\n",
            "'Text File (4).txt'\n",
            "'Text File.txt'\n",
            "'To delete Prosper-Suhoi.pdf'\n",
            " toprint.pdf\n",
            "'To The Interview Panel for - Google Docs.pdf'\n",
            "'Trade Fixed Income: Fidelity Investments (1).pdf'\n",
            "'Trade Fixed Income: Fidelity Investments (2).pdf'\n",
            "'Trade Fixed Income: Fidelity Investments (3).pdf'\n",
            "'Trade Fixed Income: Fidelity Investments (4).pdf'\n",
            "'Trade Fixed Income: Fidelity Investments (5).pdf'\n",
            "'Trade Fixed Income: Fidelity Investments (6).pdf'\n",
            "'Trade Fixed Income: Fidelity Investments (7).pdf'\n",
            "'Trade Fixed Income: Fidelity Investments (8).pdf'\n",
            "'Trade Fixed Income: Fidelity Investments.pdf'\n",
            "'Transfer Confirmation - Wells Fargo.pdf'\n",
            "'Transfer Funds Confirmation.pdf'\n",
            "'Transfer On Death - Registration Request Form.pdf'\n",
            " travelingmailboxform.pdf\n",
            "'Traveling Mailbox: USPS 1583 Form.pdf'\n",
            "'Travel Notification - Citibank.pdf'\n",
            "'Untitled document (1).gdoc'\n",
            "'Untitled document (2).gdoc'\n",
            "'Untitled document.gdoc'\n",
            "'Untitled presentation.gslides'\n",
            "'Upstart: Personal Loans | Debt Consolidation | Online Lending.pdf'\n",
            "'Vanguard - Beneficiaries (1).pdf'\n",
            "'Vanguard - Beneficiaries (2).pdf'\n",
            "'Vanguard - Beneficiaries.pdf'\n",
            "'Vanguard - Buy, sell, or exchange investments (1).pdf'\n",
            "'Vanguard - Buy, sell, or exchange investments (2).pdf'\n",
            "'Vanguard - Buy, sell, or exchange investments (3).pdf'\n",
            "'Vanguard - Buy, sell, or exchange investments.pdf'\n",
            "'Vanguard - Confirmation (1).pdf'\n",
            "'Vanguard - Confirmation.pdf'\n",
            "'Vanguard - Set up automatic investment plan (1).pdf'\n",
            "'Vanguard - Set up automatic investment plan.pdf'\n",
            "'Vanguard - Set up automatic withdrawal plan 3k per month.pdf'\n",
            "'Vanguard - Set up automatic withdrawal plan outdated.pdf'\n",
            " Vocab\n",
            "'vsc-pdf (1).pdf'\n",
            " vsc-pdf.pdf\n",
            "'Wells Fargo.pdf'\n",
            "'Wf banking statement.pdf'\n",
            "'Wf wire setup notice.pdf'\n",
            "'WhatsApp Chat - Amy Ng.zip'\n",
            "'WhatsApp Chat - Louie Chow.zip'\n",
            "'WhatsApp Chat - Room for rent.zip'\n",
            "'WhatsApp Chat - Winnie Chan.zip'\n",
            "'WhatsApp Chat - 三八.zip'\n",
            "'Whole Life Policy.pdf'\n",
            "'Xfinity statement.pdf'\n",
            "'Your Beneficiary Confirmation.pdf'\n",
            "'Your Enrollment is Confirmed- eBay Inc_.pdf'\n",
            "'zoey new born and three photos to print.gdoc'\n",
            "'來來Brita filter.pdf'\n",
            " 保險廣告.pdf\n",
            " 健康保健預約.pdf\n",
            "'「傳款易」付款服務 (1).pdf'\n",
            " 「傳款易」付款服務.pdf\n",
            "'八百伴yogurt maker.pdf'\n",
            " 南方大廈H座圖則.pdf\n",
            " 南方大廈H座圖則放大.pdf\n",
            " 南方大廈燈飾收據.pdf\n",
            " 南方燈飾收據更新.pdf\n",
            " 南方蔡生清單.gdoc\n",
            " 單方面離職聲明書01.gdoc\n",
            " 家庸配額批准書.pdf\n",
            " “居留許可”申請進度查詢系統.pdf\n",
            " 柏林牌電熱水爐使用手冊.pdf\n",
            "'澳門必勝客 :..pdf'\n",
            " 澳門電單車牌更新收據.pdf\n",
            " 澳門駕駛執照加州套牌最後申請收據.pdf\n",
            " 贍養人類.gdoc\n",
            " 醫生預約20180316.pdf\n",
            "'長榮航空 - 交易完成.pdf'\n",
            " 雙方同意解除外地僱員勞動合同.gdoc\n"
          ],
          "name": "stdout"
        }
      ]
    },
    {
      "cell_type": "code",
      "metadata": {
        "id": "-gt4aNfKuKKK",
        "colab_type": "code",
        "colab": {
          "base_uri": "https://localhost:8080/",
          "height": 34
        },
        "outputId": "aee3a0c5-cea5-4246-fb9b-2c2ee688031d"
      },
      "source": [
        "!pwd"
      ],
      "execution_count": 4,
      "outputs": [
        {
          "output_type": "stream",
          "text": [
            "/content\n"
          ],
          "name": "stdout"
        }
      ]
    },
    {
      "cell_type": "code",
      "metadata": {
        "id": "nfNJ0pdTucJk",
        "colab_type": "code",
        "colab": {
          "base_uri": "https://localhost:8080/",
          "height": 52
        },
        "outputId": "62242f04-63d6-46d0-c0f9-8e406177c2bc"
      },
      "source": [
        "!cd '/content/gdrive/My Drive/Colab Notebooks'\n",
        "!pwd\n",
        "!ls"
      ],
      "execution_count": 10,
      "outputs": [
        {
          "output_type": "stream",
          "text": [
            "/content\n",
            "gdrive\tsample_data\n"
          ],
          "name": "stdout"
        }
      ]
    },
    {
      "cell_type": "code",
      "metadata": {
        "id": "kKoufwHrul0o",
        "colab_type": "code",
        "colab": {
          "base_uri": "https://localhost:8080/",
          "height": 70
        },
        "outputId": "202c9399-00b8-48e2-bad9-180a9ce5163e"
      },
      "source": [
        "ls '/content/sample_data'"
      ],
      "execution_count": 11,
      "outputs": [
        {
          "output_type": "stream",
          "text": [
            "\u001b[0m\u001b[01;32manscombe.json\u001b[0m*                mnist_test.csv\n",
            "california_housing_test.csv   mnist_train_small.csv\n",
            "california_housing_train.csv  \u001b[01;32mREADME.md\u001b[0m*\n"
          ],
          "name": "stdout"
        }
      ]
    },
    {
      "cell_type": "code",
      "metadata": {
        "id": "LOBsKdkYvBdv",
        "colab_type": "code",
        "colab": {}
      },
      "source": [
        ""
      ],
      "execution_count": 0,
      "outputs": []
    }
  ]
}